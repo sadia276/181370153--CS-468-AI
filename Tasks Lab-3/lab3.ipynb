{
 "cells": [
  {
   "cell_type": "markdown",
   "id": "c88ed86c",
   "metadata": {},
   "source": [
    "1. Sum of Digits in a String\n",
    "Write a program that asks the user to enter a series of single-digit numbers with nothing separating them. The program should display the sum of all the single digit numbers in the string. For example, if the user enters 2514, the method should return 12, which is the sum of 2, 5, 1, and 4."
   ]
  },
  {
   "cell_type": "code",
   "execution_count": 1,
   "id": "2f081566",
   "metadata": {},
   "outputs": [
    {
     "name": "stdout",
     "output_type": "stream",
     "text": [
      "Enter a number : 4567893\n",
      "The sum is :  42\n"
     ]
    }
   ],
   "source": [
    "def sumOfDigits(num):\n",
    "    sum = 0\n",
    "    for i in num:\n",
    "#         sum = sum+int(i)\n",
    "        sum += int(i)\n",
    "    print(\"The sum is : \",sum)\n",
    "    \n",
    "num = input(\"Enter a number : \")\n",
    "sumOfDigits(num)"
   ]
  },
  {
   "cell_type": "markdown",
   "id": "c649fadd",
   "metadata": {},
   "source": [
    "2. Morse Code Converter\n",
    "Morse code is a code where each letter of the English alphabet, each digit, and various punctuation characters are represented by a series of dots and dashes. Table 8-4 shows part of the code. Write a program that asks the user to enter a string, and then converts that string to Morse code."
   ]
  },
  {
   "cell_type": "code",
   "execution_count": 10,
   "id": "c2372947",
   "metadata": {},
   "outputs": [
    {
     "name": "stdout",
     "output_type": "stream",
     "text": [
      "Enter a string   :\tasd\n",
      "Morse code of string  asd  is [ .- ... -..  ]\n"
     ]
    }
   ],
   "source": [
    "def toMorseCode(string):\n",
    "    string=string.upper()\n",
    "    sentence = \"\"\n",
    "    for dig in string:\n",
    "        sentence += CODE[dig] + \" \" \n",
    "    return sentence\n",
    "CODE = {\n",
    "'0': '-----', \n",
    "'1': '.----', \n",
    "'2': '..---', \n",
    "'3': '...--', \n",
    "'4': '....-', \n",
    "'5': '.....', \n",
    "'6': '-....', \n",
    "'7': '--...', \n",
    "'8': '---..', \n",
    "'9': '----.', \n",
    "'.': '.-.-.-', \n",
    "',': '--..--', \n",
    "'?': '..--..', \n",
    "'A': '.-', \n",
    "'B': '-...', \n",
    "'C': '-.-.', \n",
    "'D': '-..', \n",
    "'E': '.', \n",
    "'F': '..-.', \n",
    "'G': '--.', \n",
    "'H': '....', \n",
    "'I': '..', \n",
    "'J': '.---', \n",
    "'K': '-.-', \n",
    "'L': '.-..', \n",
    "'M': '--', \n",
    "'N': '-.', \n",
    "'O': '---', \n",
    "'P': '.--.', \n",
    "'Q': '--.-', \n",
    "'R': '.-.', \n",
    "'S': '...', \n",
    "'T': '-', \n",
    "'U': '..-', \n",
    "'V': '...-', \n",
    "'W': '.--', \n",
    "'X': '-..-', \n",
    "'Y': '-.--', \n",
    "'Z': '--..',\n",
    "' ': ' '}\n",
    "\n",
    "str=input(\"Enter a string   :\\t\")\n",
    "print(\"Morse code of string \", str,\" is [\",toMorseCode(str),\"]\")\n",
    "\n"
   ]
  },
  {
   "cell_type": "markdown",
   "id": "9869af30",
   "metadata": {},
   "source": [
    "3. Reverse Incremental String Slicing\n",
    "Sometimes, while working with Pythonn strings, we can have a problem in which we need to perform the slice and print of strings in reverse order. This can have application in day-day programming. So in this exercise write a program that reverse the string in incremental order.\n",
    "\n",
    "For Example:\n",
    "\n",
    "Orignal String : GIFT\n",
    "\n",
    "Incremental reverse strings: ['T','TF','TFI','TFIG']"
   ]
  },
  {
   "cell_type": "code",
   "execution_count": 4,
   "id": "d8f2ba97",
   "metadata": {},
   "outputs": [
    {
     "name": "stdout",
     "output_type": "stream",
     "text": [
      "Enter a String : sadia\n",
      "['a', 'ai', 'aid', 'aida', 'aidas']\n"
     ]
    }
   ],
   "source": [
    "word = input(\"Enter a String : \")\n",
    "res = []\n",
    "size=len(word)\n",
    "s=size*-1\n",
    "s=s-1\n",
    "subString=''\n",
    "i=-1\n",
    "while i!=s:\n",
    "    subString+=word[i]\n",
    "    res.append(subString)\n",
    "    i=i-1\n",
    "print(res)"
   ]
  },
  {
   "cell_type": "markdown",
   "id": "7bed1701",
   "metadata": {},
   "source": [
    "4. Alphabetic Telephone Number Translator\n",
    "Many companies use telephone numbers like 555-GET-FOOD so the number is easier for their customers to remember. On a standard telephone, the alphabetic letters are mapped to numbers in the following fashion:\n",
    "\n",
    "Letters\tNumber\n",
    "A, B, and C\t2\n",
    "D, E, and F\t3\n",
    "G, H, and I\t4\n",
    "J, K, and L\t5\n",
    "M, N, and O\t6\n",
    "P, Q, R, and S\t7\n",
    "T, U, and V\t8\n",
    "W, X, Y, and Z\t9\n",
    "Write a program that asks the user to enter a 10-character telephone number in the format XXX-XXX-XXXX. The application should display the telephone number with any alphabetic characters that appeared in the original translated to their numeric equivalent. For example, if the user enters 555-GET-FOOD the application should display 555-438-3663."
   ]
  },
  {
   "cell_type": "code",
   "execution_count": 5,
   "id": "5ed8647d",
   "metadata": {},
   "outputs": [
    {
     "name": "stdout",
     "output_type": "stream",
     "text": [
      "Enter a telephone number FORMAT EXAMPLE { 555-XXX-XXXX }   :\t555-GET-FOOD\n",
      "555-438-3663\n"
     ]
    }
   ],
   "source": [
    "number=input('Enter a telephone number FORMAT EXAMPLE { 555-XXX-XXXX }   :\\t')\n",
    "n=''\n",
    "for i in number:\n",
    "    if (i=='A') or (i=='B') or (i=='C'):\n",
    "        c='2'\n",
    "    elif (i=='D') or (i=='E') or (i=='F'):\n",
    "        c='3'\n",
    "    elif (i=='G') or (i=='H') or (i=='I'):\n",
    "        c='4'\n",
    "    elif (i=='J') or (i=='K') or (i=='L'):\n",
    "        c='5'\n",
    "    elif (i=='M') or (i=='N') or (i=='O'):\n",
    "        c='6'\n",
    "    elif (i=='P') or (i=='Q') or (i=='R') or (i=='S'):\n",
    "        c='7'\n",
    "    elif (i=='T') or (i=='U') or (i=='V'):\n",
    "        c='8'\n",
    "    elif (i=='W') or (i=='X') or (i=='Y') or (i=='Z'):\n",
    "        c='9'\n",
    "    else:\n",
    "        c=i\n",
    "    n=n+c\n",
    "print(n)"
   ]
  },
  {
   "cell_type": "markdown",
   "id": "2ff83214",
   "metadata": {},
   "source": [
    "5. Password Validation\n",
    "Assume that you are writing a program for a local software house. It is a password checker program. Two Python built-in functions you’ll need are ord(character) and chr(asciiNumber). ord(character) takes a character and returns its ascii value. In opposite fashion, chr(asciiValue) takes an ascii value and returns a character mapped on that ascii value. Following is ascii chart.\n",
    "\n",
    "\n",
    "ASCII Code Table\n",
    "Fig:5 ASCII Code Table\n",
    "\n",
    "That particular software house sets the criteria of password as: A password is valid if and only if it has:\n",
    "\n",
    "At least one lower case letter\n",
    "At least one upper case letter\n",
    "At least one special characters from the above given image.\n",
    "At least one digit\n",
    "All other passwords are invalid. Use the functions described above to create this program.Summing up the program requirements:\n",
    "\n",
    "takes input as password from user\n",
    "Apply the described tests\n",
    "And prints whether the password is valid or invalid."
   ]
  },
  {
   "cell_type": "code",
   "execution_count": 7,
   "id": "8674f15f",
   "metadata": {},
   "outputs": [
    {
     "name": "stdout",
     "output_type": "stream",
     "text": [
      "Enter password of atleast 4 characters   :\tab\n",
      "Enter a valid password of atleast 4 characters   :\tAb2/\n",
      "Password Validated\n"
     ]
    }
   ],
   "source": [
    "password=input(\"Enter password of atleast 4 characters   :\\t\")\n",
    "upper=['A','B','C','D','E','F','G','H','I','J','K','L','M','N','O','P','Q','R','S','T','U','V','W','X','Y','Z']\n",
    "lower=['a','b','c','d','e','f','g','h','i','j','k','l','m','n','o','p','q','r','s','t','u','v','w','x','y','z']\n",
    "special=['`','~','!','@','#','$','%','^','&','<','(',')','-','_','>','{','[','}',']','|',':',';','“','<','>','/']\n",
    "digit=['0','1','2','3','4','5','6','7','8','9']\n",
    "check1=-1\n",
    "check2=-1\n",
    "check3=-1\n",
    "check4=-1\n",
    "while len(password)<4:\n",
    "    password=input(\"Enter a valid password of atleast 4 characters   :\\t\")\n",
    "    \n",
    "for i in password:\n",
    "    for j in upper:\n",
    "        if i==j:\n",
    "            check1=0\n",
    "            break\n",
    "\n",
    "for i in password:\n",
    "    for j in lower:\n",
    "        if i==j:\n",
    "            check2=0\n",
    "            break\n",
    "            \n",
    "for i in password:\n",
    "    for j in special:\n",
    "        if i==j:\n",
    "            check3=0\n",
    "            break\n",
    "            \n",
    "for i in password:\n",
    "    for j in digit:\n",
    "        if i==j:\n",
    "            check4=0\n",
    "            break\n",
    "\n",
    "if check1==0 and check2==0 and check3==0 and check4==0:\n",
    "    print(\"Password Validated\")\n",
    "else:\n",
    "    print(\"Wrong Password\")"
   ]
  },
  {
   "cell_type": "markdown",
   "id": "4172f45f",
   "metadata": {},
   "source": [
    "6. Sentence Capitalizer\n",
    "Write a program with a function that accepts a string as an argument and returns a copy of the string with the first character of each sentence capitalized. For instance, if the argument is “hello. my name is Joe. what is your name?” the function should return the string “Hello. My name is Joe. What is your name?” The program should let the user enter a string and then pass it to the function. The modified string should be displayed."
   ]
  },
  {
   "cell_type": "code",
   "execution_count": 8,
   "id": "2754c165",
   "metadata": {},
   "outputs": [
    {
     "name": "stdout",
     "output_type": "stream",
     "text": [
      "Enter a sentence   :\thello. my name is Joe. what is your name?\n",
      " Hello. My Name Is Joe. What Is Your Name?\n"
     ]
    }
   ],
   "source": [
    "sentence=input(\"Enter a sentence   :\\t\")\n",
    "str=sentence.split(\" \")\n",
    "s=''\n",
    "for i in str:\n",
    "    for j in range(len(i)):\n",
    "        if j==0:\n",
    "            s+=\" \"+i[j].upper()\n",
    "        else:\n",
    "            s+=i[j]\n",
    "print(s)"
   ]
  },
  {
   "cell_type": "markdown",
   "id": "73254b53",
   "metadata": {},
   "source": [
    "7. Pig Latin\n",
    "Write a program that accepts a sentence as input and converts each word to “Pig Latin.” In one version, to convert a word to Pig Latin you remove the first letter and place that letter at the end of the word. Then you append the string “ay” to the word. Here is an example:\n",
    "\n",
    "English: I SLEPT MOST OF THE NIGHT\n",
    "Pig Latin: IAY LEPTSAY OSTMAY FOAY HETAY IGHTNAY"
   ]
  },
  {
   "cell_type": "code",
   "execution_count": 9,
   "id": "2d77a0ee",
   "metadata": {},
   "outputs": [
    {
     "name": "stdout",
     "output_type": "stream",
     "text": [
      "Enter a sentence   :\tI SLEPT MOST OF THE NIGHT\n",
      "IAY LEPTSAY OSTMAY FOAY HETAY IGHTNAY \n"
     ]
    }
   ],
   "source": [
    "sentence=input(\"Enter a sentence   :\\t\")\n",
    "str=sentence.split(\" \")\n",
    "s=''\n",
    "for i in str:\n",
    "    c=i[0]+\"AY \"\n",
    "    for j in range(len(i)):\n",
    "        if j!=0:\n",
    "            s+=i[j].upper()\n",
    "    s=s+c\n",
    "print(s)"
   ]
  },
  {
   "cell_type": "code",
   "execution_count": null,
   "id": "a4ebc083",
   "metadata": {},
   "outputs": [],
   "source": []
  }
 ],
 "metadata": {
  "kernelspec": {
   "display_name": "Python 3",
   "language": "python",
   "name": "python3"
  },
  "language_info": {
   "codemirror_mode": {
    "name": "ipython",
    "version": 3
   },
   "file_extension": ".py",
   "mimetype": "text/x-python",
   "name": "python",
   "nbconvert_exporter": "python",
   "pygments_lexer": "ipython3",
   "version": "3.8.8"
  }
 },
 "nbformat": 4,
 "nbformat_minor": 5
}
